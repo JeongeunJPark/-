{
 "cells": [
  {
   "cell_type": "markdown",
   "metadata": {},
   "source": [
    "# Chapter 01. 헬로 파이썬\n",
    "\n",
    "1) 파이썬\n",
    "   - 과학 분야, 특히 기계 학습과 데이터 과학 분야에서 널리 쓰임\n",
    "   - 넘파이, 사이파이(수치계산, 통계 처리 라이브러리)와 함께 강력한 성능을 발휘\n",
    "   \n",
    "2) Numpy\n",
    "   - 수치 계산용 라이브러리\n",
    "\n",
    "3) Matplotlib\n",
    "   - 그래프 그려주는 라이브러리"
   ]
  },
  {
   "cell_type": "markdown",
   "metadata": {},
   "source": [
    "2) 넘파이\n"
   ]
  },
  {
   "cell_type": "code",
   "execution_count": null,
   "metadata": {},
   "outputs": [],
   "source": [
    "import numpy as np"
   ]
  },
  {
   "cell_type": "markdown",
   "metadata": {},
   "source": [
    " * 브로드캐스트 : 넘파이 배열과 수치 하나(스칼라값)의 산술연산도 수행 가능"
   ]
  },
  {
   "cell_type": "markdown",
   "metadata": {},
   "source": [
    "3) matplotlib\n",
    "\n",
    "   * 그래프를 그려주는 라이브러리"
   ]
  },
  {
   "cell_type": "markdown",
   "metadata": {},
   "source": [
    "# Chapter 02. 퍼셉트론"
   ]
  },
  {
   "cell_type": "markdown",
   "metadata": {},
   "source": [
    "  ### 1) 퍼셉트론이란?   \n",
    "   \n",
    "   1-1. 왜 퍼셉트론을 배워야 하는가?   \n",
    "   - 프랑크 로젠블라트가 1957년에 고안한 알고리즘   \n",
    "   - 딥러닝의 기원이 되는 알고리즘    \n",
    "   \n",
    "   1-2. 퍼셉트론이란?\n",
    "   - 다수의 신호를 입력으로 받아 하나의 신호를 출력한다.    \n",
    "   \n",
    "   > (X1) ----(w1)------> \n",
    "                               (y)\n",
    "   > (X2) ----(w2)------> \n",
    "   \n",
    "   - 각각의 노드(뉴런)가 뉴런에 보내질 때 각각의 가중치(W1, W2)가 곱해진다.\n",
    "   - 뉴런에서 보내진 신호의 총합이 정해진 한계를 넘어설 때만 1을 출력한다.\n",
    "   - 그 '한계' 는 임계값(세타)이라고 부른다.\n",
    "   \n",
    "  ### 2) 단순한 논리 회로!\n",
    "    \n",
    "    2-1. AND 게이트\n",
    "    \n",
    "    - AND 논리게이트는 두 회로의 값이 1, 1 일때만 1의 값을 갖는다.\n",
    "    \n",
    "    ![AND_논리게이트](./and논리게이트.png)\n",
    "    \n",
    "        - 이 요건을 만족하는 매개변수 조합은 무한히 많다.\n",
    "        \n",
    "    2-2. NAND 논리게이트, OR게이트\n",
    "        \n",
    "     - NAND 논리게이트 : AND게이트의 반전된 버전으로, 두 회로의 값이 1,1이 아닐 때만 1을 출력한다.\n",
    "     - OR 논리게이트 : 둘 중의 하나라도 1이면 1을 출력한다."
   ]
  },
  {
   "cell_type": "markdown",
   "metadata": {},
   "source": [
    "#### 2-3. __퍼셉트론 구현하기__"
   ]
  },
  {
   "cell_type": "code",
   "execution_count": 2,
   "metadata": {},
   "outputs": [],
   "source": [
    "#논리회로의 파이썬 구현\n",
    "\n",
    "def AND(x1, x2):\n",
    "    w1, w2, theta = 0.5, 0.5, 0.7\n",
    "    \n",
    "    tmp = x1*w1 + x2*w2 \n",
    "    \n",
    "    # x값에 각각의 가중치를 곱한 값이 임계값보다 작으면 0을 출력한다\n",
    "    if(tmp <= theta):\n",
    "        return 0\n",
    "    # x값에 각각의 가중치를 곱한 값이 임계값보다 크면 1을 출력한다\n",
    "    elif tmp > theta:\n",
    "        return 1"
   ]
  },
  {
   "cell_type": "code",
   "execution_count": 4,
   "metadata": {},
   "outputs": [
    {
     "name": "stdout",
     "output_type": "stream",
     "text": [
      "0\n",
      "0\n",
      "0\n",
      "1\n",
      "잘 출력되었다!\n"
     ]
    }
   ],
   "source": [
    "#결과가 잘 출력되는지 확인해본다.\n",
    "print(AND(0,0))\n",
    "print(AND(0,1))\n",
    "print(AND(1,0))\n",
    "print(AND(1,1))\n",
    "\n",
    "print(\"잘 출력되었다!\")"
   ]
  },
  {
   "cell_type": "markdown",
   "metadata": {},
   "source": [
    "### 3)  퍼셉트론 구현에 + 편향까지 고려해보자\n",
    "\n",
    "> 퍼셉트론의 결과는   \n",
    "> (입력값) * (가중치) + 편향 = 결과 출력   \n",
    "> 이 방식을 그대로 수식에 적용하여 (입력값) * (가중치) + 편향 > 임계값     \n",
    "> 이 되도록 코드를 작성해본다.   \n",
    "\n",
    "#### 3-1. \"퍼셉트론 + 편향\" 수식 구현 "
   ]
  },
  {
   "cell_type": "code",
   "execution_count": 7,
   "metadata": {},
   "outputs": [
    {
     "name": "stdout",
     "output_type": "stream",
     "text": [
      "입력값과 가중치의 곱 0.5\n",
      "\n",
      "입력값X가중치+편향 == 결과값 :  -0.19999999999999996\n"
     ]
    }
   ],
   "source": [
    "import numpy as np\n",
    "\n",
    "#입력값\n",
    "x = np.array([0,1])\n",
    "\n",
    "#가중치\n",
    "w = np.array([0.5, 0.5])\n",
    "\n",
    "#편향\n",
    "b = -0.7\n",
    "\n",
    "x * w\n",
    "\n",
    "np.sum(w*x)\n",
    "print(\"입력값과 가중치의 곱\" ,np.sum(w*x))\n",
    "\n",
    "np.sum(w*x) + b\n",
    "print(\"\\n입력값X가중치+편향 == 결과값 : \" ,np.sum(w*x) + b)"
   ]
  },
  {
   "cell_type": "markdown",
   "metadata": {},
   "source": [
    "* 넘파이 배열은 배열의 shape 이 같으면 각각의 원소끼리 곱합 \n",
    "* np.sum() 메소드는 입력한 배열의 모든 원소의 총합을 계산함"
   ]
  },
  {
   "cell_type": "markdown",
   "metadata": {},
   "source": [
    "#### 3-2. 가중치와 편향 구현하기"
   ]
  },
  {
   "cell_type": "code",
   "execution_count": 15,
   "metadata": {},
   "outputs": [],
   "source": [
    "#가중치와 편향을 도입한 AND 게이트\n",
    "\n",
    "def AND(x1, x2):\n",
    "    x = np.array([x1, x2])\n",
    "    w = np.array([0.5, 0.5])\n",
    "    b = -0.7\n",
    "    \n",
    "    tmp = np.sum(w*x) + b\n",
    "    \n",
    "    if tmp <= 0:\n",
    "        return 0\n",
    "    else:\n",
    "        return 1"
   ]
  },
  {
   "cell_type": "markdown",
   "metadata": {},
   "source": [
    "* 여기서, 가중치(w1, w2)는 각 입력 신호가 결과에 주는 영향력(중요도)을 조절하는 매개변수\n",
    "* 편향은 __뉴런이 얼마나 쉽게 활성화하느냐를 조정하는 매개변수__ (아무리 다른 값이 높아도 편향이 매우 -값을 가지면 1을 넘기 힘듦"
   ]
  },
  {
   "cell_type": "code",
   "execution_count": 16,
   "metadata": {},
   "outputs": [],
   "source": [
    "#NAND 게이트\n",
    "\n",
    "def NAND(x1, x2):\n",
    "    x = np.array([x1, x2])\n",
    "    w = np.array([-0.5, -0.5])\n",
    "    b = 0.7\n",
    "    \n",
    "    tmp = np.sum(x*w) +b\n",
    "    \n",
    "    if(tmp <= 0):\n",
    "        return 0\n",
    "    else:\n",
    "        return 1"
   ]
  },
  {
   "cell_type": "code",
   "execution_count": 17,
   "metadata": {},
   "outputs": [],
   "source": [
    "#OR 게이트\n",
    "\n",
    "def OR(x1, x2):\n",
    "    x = np.array([x1, x2])\n",
    "    w = np.array([0.5,0.5])\n",
    "    b = -0.2\n",
    "    \n",
    "    tmp = np.sum(x*w) +b\n",
    "    \n",
    "    if(tmp <= 0):\n",
    "        return 0\n",
    "    else:\n",
    "        return 1"
   ]
  },
  {
   "cell_type": "markdown",
   "metadata": {},
   "source": [
    "## 4. 퍼셉트론의 한계\n",
    "\n",
    "   * 퍼셉트론의 한계, XOR 게이트   \n",
    "   - XOR 게이트 == \"배타적 논리합\" (x1과 x2 중 어느 한 쪽이 1일때만 1을 출력함)    \n",
    "   - 하나의 직선으로는 아래의 두 결과값을 나눌 수 없다. (선형 영역)   \n",
    "   \n",
    "   ![xor](./xor.png)"
   ]
  },
  {
   "cell_type": "markdown",
   "metadata": {},
   "source": [
    "   * 곡선이라면 가능하지만...(비선형 영역)   \n",
    "   \n",
    "   ![curv](./curve.png)"
   ]
  },
  {
   "cell_type": "markdown",
   "metadata": {},
   "source": [
    "## 5. 그럼 다층 퍼셉트론이 출동한다면 어때?"
   ]
  },
  {
   "cell_type": "markdown",
   "metadata": {},
   "source": [
    "### 5-1. 다층 퍼셉트론이란? \n",
    "   * 퍼셉트론의 층을 여러 개 쌓아서 만드는 것.\n",
    "   \n",
    "   > NAND ----->    \n",
    "   >             AND -----> XOR    \n",
    "   > OR ------->     "
   ]
  },
  {
   "cell_type": "code",
   "execution_count": 18,
   "metadata": {},
   "outputs": [],
   "source": [
    "# XOR 구현하기\n",
    "\n",
    "def XOR(x1, x2):\n",
    "    s1 = NAND(x1, x2)\n",
    "    s2 = OR(x1, x2)\n",
    "    y = AND(s1, s2)\n",
    "    \n",
    "    return y"
   ]
  },
  {
   "cell_type": "code",
   "execution_count": 19,
   "metadata": {},
   "outputs": [
    {
     "name": "stdout",
     "output_type": "stream",
     "text": [
      "0\n",
      "1\n",
      "1\n",
      "0\n"
     ]
    }
   ],
   "source": [
    "# 기대한 XOR 결과값을 잘 출력하는지 살펴보자.\n",
    "\n",
    "print(XOR(0,0))\n",
    "print(XOR(0,1))\n",
    "print(XOR(1,0))\n",
    "print(XOR(1,1))"
   ]
  },
  {
   "cell_type": "markdown",
   "metadata": {},
   "source": [
    "   * 놀랍게도, 2층 이상의 퍼셉트론이라면 컴퓨터를 만들어 낼 수 있다.    \n",
    "   * 비선형 시그모이드 함수를 활성화 함수로 사용하여~~\n",
    "   \n",
    "   > 처음에는 AND, OR -> 반가산기, 전가산기 --> 산술논리연산장치(ALU) ---> CPU !"
   ]
  },
  {
   "cell_type": "markdown",
   "metadata": {},
   "source": [
    "# 6. 마무리\n",
    "\n",
    "1. 퍼셉트론은 입출력이 있는 알고리즘이다. 입력을 받으면 정해진 규칙에 따라 출력을 수행한다.\n",
    "2. 퍼셉트론에서는 '가중치'와 '편향' 을 매개변수(하이퍼 파라미터가 될 듯)로 설정한다.\n",
    "3. 퍼셉트론으로 AND, OR 등의 논리게이트를 표현할 수 있다.\n",
    "4. XOR 게이트는 단층 퍼셉트론으로는 표현할 수 없다.\n",
    "5. 2층 퍼셉트론을 이용하여 XOR 게이트를 표현할 수 있다.\n",
    "6. 단층 퍼셉트론은 직선 영역만, 다층 퍼셉트론은 비선형 영역도 표현할 수 있다.\n",
    "7. 다층 퍼셉트론은 (이론상)컴퓨터를 만들 수 있다."
   ]
  }
 ],
 "metadata": {
  "kernelspec": {
   "display_name": "aiffel",
   "language": "python",
   "name": "aiffel"
  },
  "language_info": {
   "codemirror_mode": {
    "name": "ipython",
    "version": 3
   },
   "file_extension": ".py",
   "mimetype": "text/x-python",
   "name": "python",
   "nbconvert_exporter": "python",
   "pygments_lexer": "ipython3",
   "version": "3.7.9"
  }
 },
 "nbformat": 4,
 "nbformat_minor": 4
}
