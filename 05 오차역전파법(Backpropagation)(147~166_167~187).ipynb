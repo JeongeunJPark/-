{
 "cells": [
  {
   "cell_type": "markdown",
   "metadata": {},
   "source": [
    "## 오차역전파(Backpropagation)"
   ]
  },
  {
   "cell_type": "markdown",
   "metadata": {},
   "source": [
    "* 이전 단원에서는 가중치 매개변수의 기울기는 수치 미분을 사용해 구했다.        \n",
    "* 수치 미분은 단순하고, 구현하기 쉽지만 계산 시간이 오래 걸린다.        \n",
    "* 따라서, 이 가중치 매개변에 대한 손실함수의 기울기를 효율적으로 계산하는 오차 역전파법을 배워본다."
   ]
  },
  {
   "cell_type": "markdown",
   "metadata": {},
   "source": [
    "### 5.1 계산 그래프      "
   ]
  },
  {
   "cell_type": "markdown",
   "metadata": {},
   "source": [
    "* 계산 그래프 : 계산 과정을 그래프로 나타낸 것, 복수의 노드와 에지로 나타냄."
   ]
  },
  {
   "cell_type": "markdown",
   "metadata": {},
   "source": [
    "> Q1. 현빈 군은 슈퍼에서 1개에 100원인 사과를 2개 샀습니다. 이 때 지불 금액을 구하세요. 단 소비세가 10% 부과됩니다.         \n",
    "> 사과  -----100-----(*2)----> 200----->(*1.1)------> 지불"
   ]
  },
  {
   "cell_type": "markdown",
   "metadata": {},
   "source": [
    "* 계산 그래프를 이용한 문제풀이        \n",
    "1. 계산 그래프를 구성한다.       \n",
    "2. 그래프 계산을 왼쪽에서 오른쪽으로 진행한다.(__순전파__ )          \n",
    "__오차 '역전파'__ 법에서 알 수 있듯이, __오른쪽 -> 왼쪽으로 흐르는 계산법을 역전파___ 라고 한다."
   ]
  },
  {
   "cell_type": "markdown",
   "metadata": {},
   "source": [
    "#### 5.1.2 국소적 계산       \n",
    "\n",
    "* 자신과 직접 관계된 작은 범위        \n",
    "* 전체 계산이 아무리 복잡하더라도 각 단계에서 하는 일은 해당 노드의 '국소적 계산'   "
   ]
  },
  {
   "cell_type": "markdown",
   "metadata": {},
   "source": [
    "####  5.1.3 왜 국소적 계산으로 푸는가?      \n",
    "\n",
    "* 국소적 계산을 이용하여, 전체가 아무리 복잡해도 각 노드에서는 단순한 계산에 집중하여 문제를 단순화 할 수 있음      \n",
    "* 계산 그래프는 \"중간 계산 결과를 저장할 수 있음\"       \n",
    "* __역전파를 통해 미분을 효율적으로 계산할 수 있음__ "
   ]
  },
  {
   "cell_type": "markdown",
   "metadata": {},
   "source": [
    "> 역전파는 굵은 화살표로 그림\n",
    "> ![오차역전파법](./PostingPic/오차역전파법.png)"
   ]
  },
  {
   "cell_type": "markdown",
   "metadata": {},
   "source": [
    "* 국소적 미분을 전달하고, 그 미분 값은 화살표 아래에 적는다.     "
   ]
  },
  {
   "cell_type": "markdown",
   "metadata": {},
   "source": [
    "#### 5.2 연쇄법칙        \n",
    "\n",
    "* 합성함수 : 여러 함수로 구성된 함수.      \n",
    "> $z= t^2$ , $t = x+y$"
   ]
  },
  {
   "cell_type": "markdown",
   "metadata": {},
   "source": [
    "* 연쇄 법칙 : 합성 함수의 미분에 대한 성질          \n",
    "> 합성 함수의 미분은 합성 함수를 구성하는 각 함수의 미분의 곱으로 나타낼 수 있다."
   ]
  },
  {
   "cell_type": "markdown",
   "metadata": {},
   "source": [
    "#### 5.3 역전파"
   ]
  },
  {
   "cell_type": "markdown",
   "metadata": {},
   "source": [
    "#### 5.3.1 덧셈 노드의 역전파       \n",
    "* 1을 곱하기만 한다(입력된 값을 그대로 다음 노드로 흐르게 됨)   \n",
    "\n",
    "#### 5.3.2 곱셈 노드의 역전파        \n",
    "* 상류의 값 * 순전파의 입력 신호를 서로 바꾼 값 \n",
    "\n",
    "#### 5.3.3 사과 쇼핑의 예         "
   ]
  },
  {
   "cell_type": "markdown",
   "metadata": {},
   "source": [
    "#### 5.4 단순한 계층 구현하기      \n",
    "\n",
    "#### 5.4.1 곱셈 계층        \n",
    "* 모든 계층은 forward() 와 backward() 라는 공통의 메서드를 갖도록 구현한다.     \n",
    "* forward() : 순전파        \n",
    "* backward() : 역전파          "
   ]
  },
  {
   "cell_type": "code",
   "execution_count": 1,
   "metadata": {},
   "outputs": [],
   "source": [
    "class MulLayer:\n",
    "    def __init__(self):\n",
    "        self.x = None\n",
    "        self.y = None\n",
    "        \n",
    "    def forward(self, x, y):\n",
    "        self.x = x\n",
    "        self.y = y\n",
    "        out = x*y\n",
    "        \n",
    "        return out\n",
    "    \n",
    "    def backward(self, dout):\n",
    "        dx = dout * self.y\n",
    "        dy = dout * self.x\n",
    "        \n",
    "        return dx, dy"
   ]
  },
  {
   "cell_type": "code",
   "execution_count": 6,
   "metadata": {},
   "outputs": [
    {
     "name": "stdout",
     "output_type": "stream",
     "text": [
      "220.00000000000003\n"
     ]
    }
   ],
   "source": [
    "apple = 100\n",
    "apple_num = 2\n",
    "tax = 1.1\n",
    "\n",
    "mul_apple_layer = MulLayer()\n",
    "mul_tax_layer = MulLayer()\n",
    "\n",
    "apple_price = mul_apple_layer.forward(apple, apple_num)\n",
    "price = mul_tax_layer.forward(apple_price,tax)\n",
    "\n",
    "print(price)"
   ]
  },
  {
   "cell_type": "code",
   "execution_count": 7,
   "metadata": {},
   "outputs": [
    {
     "name": "stdout",
     "output_type": "stream",
     "text": [
      "2.2 110.00000000000001 200\n"
     ]
    }
   ],
   "source": [
    "dprice = 1\n",
    "\n",
    "dapple_price, dtax = mul_tax_layer.backward(dprice)\n",
    "dapple, dapple_num = mul_apple_layer.backward(dapple_price)\n",
    "\n",
    "print(dapple, dapple_num, dtax)"
   ]
  },
  {
   "cell_type": "code",
   "execution_count": 8,
   "metadata": {},
   "outputs": [],
   "source": [
    "class AddLayer:\n",
    "    def __init__(self):\n",
    "        pass\n",
    "    \n",
    "    def forward(self, x, y):\n",
    "        out = x+y\n",
    "        return out\n",
    "    \n",
    "    def backward(self, dout):\n",
    "        dx = dout * 1\n",
    "        dy = dout * 1\n",
    "        return dx, dy"
   ]
  },
  {
   "cell_type": "code",
   "execution_count": 10,
   "metadata": {},
   "outputs": [
    {
     "name": "stdout",
     "output_type": "stream",
     "text": [
      "총 가격 출력 :  715.0000000000001\n"
     ]
    }
   ],
   "source": [
    "# 사과 2개 사기\n",
    "# 오렌지 3개 사기\n",
    "apple = 100\n",
    "apple_num = 2\n",
    "\n",
    "orange = 150\n",
    "orange_num = 3\n",
    "\n",
    "tax = 1.1\n",
    "\n",
    "# 사과 2개를 곱하는 레이어\n",
    "mul_apple_layer = MulLayer()\n",
    "\n",
    "# 오렌지 3개를 곱하는 레이어\n",
    "mul_orange_layer = MulLayer()\n",
    "\n",
    "# 구매한 과일들의 값을 곱하는 레이어\n",
    "add_apple_orange_layer = AddLayer()\n",
    "\n",
    "# 소비세를 곱하는 레이어\n",
    "mul_tax_layer = MulLayer()\n",
    "\n",
    "\n",
    "apple_price = mul_apple_layer.forward(apple, apple_num)\n",
    "orange_price = mul_orange_layer.forward(orange, orange_num)\n",
    "\n",
    "all_price = add_apple_orange_layer.forward(apple_price, orange_price)\n",
    "price = mul_tax_layer.forward(all_price, tax)\n",
    "\n",
    "print(\"총 가격 출력 : \", price)"
   ]
  },
  {
   "cell_type": "code",
   "execution_count": 11,
   "metadata": {},
   "outputs": [
    {
     "name": "stdout",
     "output_type": "stream",
     "text": [
      "de apple num, de apple, de orange num, de orange\n",
      "110.00000000000001 2.2 165.0 3.3000000000000003\n"
     ]
    }
   ],
   "source": [
    "deprice = 1\n",
    "\n",
    "de_all_price, de_tax = mul_tax_layer.backward(deprice)\n",
    "\n",
    "de_apple_price, de_orange_price = add_apple_orange_layer.backward(de_all_price)\n",
    "\n",
    "de_orange, de_orange_num = mul_orange_layer.backward(de_orange_price)\n",
    "de_apple, de_apple_num = mul_apple_layer.backward(de_apple_price)\n",
    "\n",
    "print(\"de apple num, de apple, de orange num, de orange\")\n",
    "print(de_apple_num, de_apple, de_orange_num, de_orange)"
   ]
  },
  {
   "cell_type": "markdown",
   "metadata": {},
   "source": [
    "## 활성화 함수 구현하기        \n",
    "\n",
    "#### 5.5.1 ReLU 함수 구현하기          \n",
    "\n",
    "x>0 일 때는 1, x <=0 이면 0"
   ]
  },
  {
   "cell_type": "code",
   "execution_count": 12,
   "metadata": {},
   "outputs": [],
   "source": [
    "class Relu:\n",
    "    def __init__(self):\n",
    "        self.mask = None\n",
    "        \n",
    "    def forward(self, x):\n",
    "        self.mask = (x <= 0)\n",
    "        out = x.copy()\n",
    "        out[self.mask] = 0\n",
    "        \n",
    "        return out\n",
    "\n",
    "    def backward(self, dout):\n",
    "        dout[self.mask] = 0\n",
    "        dx = dout\n",
    "        \n",
    "        return dx"
   ]
  },
  {
   "cell_type": "markdown",
   "metadata": {},
   "source": [
    "* ReLU 층은 mask라는 넘파이 배열 변수를 갖는다. \n",
    "* mask는 True False로 이루어져 있다."
   ]
  },
  {
   "cell_type": "code",
   "execution_count": 13,
   "metadata": {},
   "outputs": [
    {
     "name": "stdout",
     "output_type": "stream",
     "text": [
      "[[ 1.  -0.5]\n",
      " [-2.   3. ]]\n",
      "[[False  True]\n",
      " [ True False]]\n"
     ]
    }
   ],
   "source": [
    "import numpy as np\n",
    "\n",
    "x = np.array([[1.0, -0.5], [-2.0, 3.0]])\n",
    "print(x)\n",
    "\n",
    "mask = (x <= 0)\n",
    "print(mask)"
   ]
  },
  {
   "cell_type": "markdown",
   "metadata": {},
   "source": [
    "## 5.5.2 Sigmoid 계층 구현하기"
   ]
  },
  {
   "cell_type": "markdown",
   "metadata": {},
   "source": [
    "--- \n",
    "- 추가된 exp 노드는 지수(exp) 계산    \n",
    "- / 노드는 나누기 계산을 수행한다."
   ]
  },
  {
   "cell_type": "code",
   "execution_count": 1,
   "metadata": {},
   "outputs": [],
   "source": [
    "class sigmoid:\n",
    "    def __init__(self):\n",
    "        self.out = None\n",
    "        \n",
    "    def forward(self, x):\n",
    "        out = 1/(1+np.exp(-x))\n",
    "        self.out = out\n",
    "        \n",
    "        return out\n",
    "    \n",
    "    def backward(self, dout):\n",
    "        dx = dout *(1.0 - self.out) * self.out\n",
    "        \n",
    "        return dx"
   ]
  },
  {
   "cell_type": "markdown",
   "metadata": {},
   "source": [
    "* 신경망의 순전파에서 수행하는 행렬의 곱은 기하학에서는 '어파인 변환' 이라고 함,"
   ]
  },
  {
   "cell_type": "code",
   "execution_count": null,
   "metadata": {},
   "outputs": [],
   "source": []
  },
  {
   "cell_type": "code",
   "execution_count": null,
   "metadata": {},
   "outputs": [],
   "source": []
  },
  {
   "cell_type": "code",
   "execution_count": null,
   "metadata": {},
   "outputs": [],
   "source": []
  },
  {
   "cell_type": "code",
   "execution_count": null,
   "metadata": {},
   "outputs": [],
   "source": []
  },
  {
   "cell_type": "code",
   "execution_count": null,
   "metadata": {},
   "outputs": [],
   "source": []
  },
  {
   "cell_type": "code",
   "execution_count": null,
   "metadata": {},
   "outputs": [],
   "source": []
  },
  {
   "cell_type": "code",
   "execution_count": null,
   "metadata": {},
   "outputs": [],
   "source": []
  },
  {
   "cell_type": "code",
   "execution_count": null,
   "metadata": {},
   "outputs": [],
   "source": []
  },
  {
   "cell_type": "code",
   "execution_count": null,
   "metadata": {},
   "outputs": [],
   "source": []
  }
 ],
 "metadata": {
  "kernelspec": {
   "display_name": "aiffel",
   "language": "python",
   "name": "aiffel"
  },
  "language_info": {
   "codemirror_mode": {
    "name": "ipython",
    "version": 3
   },
   "file_extension": ".py",
   "mimetype": "text/x-python",
   "name": "python",
   "nbconvert_exporter": "python",
   "pygments_lexer": "ipython3",
   "version": "3.7.9"
  }
 },
 "nbformat": 4,
 "nbformat_minor": 4
}
