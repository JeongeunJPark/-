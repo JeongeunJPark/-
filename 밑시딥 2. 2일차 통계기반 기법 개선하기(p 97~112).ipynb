{
 "cells": [
  {
   "cell_type": "markdown",
   "metadata": {},
   "source": [
    "#### 2.4 통계 기반 기법 개선하기\n",
    "\n",
    "##### 2.4.1 상호정보량\n",
    "\n",
    "- 일반적인 아티클에서, the는 고빈도 단어라서 car-drive 보다 the-car의 빈도수가 더 많이 측정될 확률이 있음        \n",
    "- __점별 상호정보량(PMI)__         \n",
    "- $P(x,y)/P(x)*P(y)$    \n",
    "- P(x), P(y) : x, y가 말뭉치에서 등장할 확률      \n",
    "- P(x,y) : x와 y가 말뭉치에서 동시발생 할 확률"
   ]
  },
  {
   "cell_type": "markdown",
   "metadata": {},
   "source": [
    "- 점별 상호정보량을 고려할 경우, the가 단독 발생하는 확률을 고려하게 되므로 car-drive간의 상관관계가 보정된다.           \n",
    "- 단, PMI에도 문제점이 있다. 두 단어의 동시발생 횟수가 0이면 음의 마이너스로 발산하기 때문에, 이를 보완하기 위해       \n",
    "- 실전에서는 양의 상호정보량(PPMI)를 사용한다."
   ]
  },
  {
   "cell_type": "markdown",
   "metadata": {},
   "source": [
    "$PPMI(x,y) = max(0, PMI(x,y))$"
   ]
  },
  {
   "cell_type": "code",
   "execution_count": null,
   "metadata": {},
   "outputs": [],
   "source": [
    "def ppmi(C, verbose = False, eps = 1e-8):\n",
    "    M = np.zeros_like(C, dtype=np.float32)"
   ]
  },
  {
   "cell_type": "markdown",
   "metadata": {},
   "source": [
    "- 단, PPMI도 문제가 있다! 말뭉치의 어휘 수가 증가함에 따라 각 단어 벡터의 차원 수도 함께 증가하는 것.     \n",
    "- 차원이 너무 커지고, 원소 대부분이 0이므로 각 원소의 '중요도' 가 낮다.      \n",
    "\n",
    "- __이를 개선하기 위해 벡터의 차원 감소가 필요하다.__"
   ]
  },
  {
   "cell_type": "markdown",
   "metadata": {},
   "source": [
    "#### 2.4.2 차원 감소          \n",
    "\n",
    "- 차원 감소 : 벡터의 차원을 줄이는 방법. 단, __중요한 정보를 최대한 유지하면서__ 차원을 감소시키는 것이 중요하다.     \n",
    "- 원소 대부분이 0인 행렬/벡터(희소벡터)에서, 중요한 축을 찾아내서 더 작은 차원의 벡터/행렬로 표현하면 원소 대부분이 0이 아닌값을 가지는 행렬/벡터(밀집벡터) 가 된다.          \n",
    "\n",
    "1. 특잇값 분해(SVD)\n",
    "- X = USV \n",
    "- 행렬을 임의의 세 행렬의 곱으로 변환한다.   \n",
    "- S는 대각행렬(nxn의 자리 외에는 전부 0인 행렬), U와 V는 직교행렬이고, 그 열벡터는 서로 직교함.          "
   ]
  },
  {
   "cell_type": "markdown",
   "metadata": {},
   "source": [
    "#### 2.4.4 PTB 데이터셋         \n",
    "\n",
    "- 펜 트리뱅크"
   ]
  },
  {
   "cell_type": "code",
   "execution_count": null,
   "metadata": {},
   "outputs": [],
   "source": []
  },
  {
   "cell_type": "code",
   "execution_count": null,
   "metadata": {},
   "outputs": [],
   "source": []
  }
 ],
 "metadata": {
  "kernelspec": {
   "display_name": "aiffel",
   "language": "python",
   "name": "aiffel"
  },
  "language_info": {
   "codemirror_mode": {
    "name": "ipython",
    "version": 3
   },
   "file_extension": ".py",
   "mimetype": "text/x-python",
   "name": "python",
   "nbconvert_exporter": "python",
   "pygments_lexer": "ipython3",
   "version": "3.7.9"
  }
 },
 "nbformat": 4,
 "nbformat_minor": 4
}
