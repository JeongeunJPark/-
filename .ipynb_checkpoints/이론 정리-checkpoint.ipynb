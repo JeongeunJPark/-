{
 "cells": [
  {
   "cell_type": "markdown",
   "metadata": {},
   "source": [
    "# Chapter 01. 헬로 파이썬\n",
    "\n",
    "1) 파이썬\n",
    "   - 과학 분야, 특히 기계 학습과 데이터 과학 분야에서 널리 쓰임\n",
    "   - 넘파이, 사이파이(수치계산, 통계 처리 라이브러리)와 함께 강력한 성능을 발휘\n",
    "   \n",
    "2) Numpy\n",
    "   - 수치 계산용 라이브러리\n",
    "\n",
    "3) Matplotlib\n",
    "   - 그래프 그려주는 라이브러리"
   ]
  },
  {
   "cell_type": "markdown",
   "metadata": {},
   "source": [
    "2) 넘파이\n"
   ]
  },
  {
   "cell_type": "code",
   "execution_count": null,
   "metadata": {},
   "outputs": [],
   "source": [
    "import numpy as np"
   ]
  },
  {
   "cell_type": "markdown",
   "metadata": {},
   "source": [
    " * 브로드캐스트 : 넘파이 배열과 수치 하나(스칼라값)의 산술연산도 수행 가능"
   ]
  },
  {
   "cell_type": "markdown",
   "metadata": {},
   "source": [
    "3) matplotlib\n",
    "\n",
    "   * 그래프를 그려주는 라이브러리"
   ]
  },
  {
   "cell_type": "code",
   "execution_count": null,
   "metadata": {},
   "outputs": [],
   "source": []
  },
  {
   "cell_type": "code",
   "execution_count": null,
   "metadata": {},
   "outputs": [],
   "source": []
  }
 ],
 "metadata": {
  "kernelspec": {
   "display_name": "aiffel",
   "language": "python",
   "name": "aiffel"
  },
  "language_info": {
   "codemirror_mode": {
    "name": "ipython",
    "version": 3
   },
   "file_extension": ".py",
   "mimetype": "text/x-python",
   "name": "python",
   "nbconvert_exporter": "python",
   "pygments_lexer": "ipython3",
   "version": "3.7.9"
  }
 },
 "nbformat": 4,
 "nbformat_minor": 4
}
